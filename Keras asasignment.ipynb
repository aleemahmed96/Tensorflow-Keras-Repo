{
 "cells": [
  {
   "cell_type": "code",
   "execution_count": 3,
   "metadata": {},
   "outputs": [],
   "source": [
    "%matplotlib inline\n",
    "import matplotlib.pyplot as plt\n",
    "import numpy as np\n",
    "import pandas as pd"
   ]
  },
  {
   "cell_type": "code",
   "execution_count": 4,
   "metadata": {},
   "outputs": [],
   "source": [
    "#def line(w=0,x,b=0)#y=mx+c\n",
    "def line(x,w=0,b=0):\n",
    "    y=w*x+b #y=mx+c\n",
    "    return y"
   ]
  },
  {
   "cell_type": "markdown",
   "metadata": {},
   "source": [
    "# Logical Sketch"
   ]
  },
  {
   "cell_type": "markdown",
   "metadata": {},
   "source": [
    "For making model for assignment by matplotlib"
   ]
  },
  {
   "cell_type": "code",
   "execution_count": 5,
   "metadata": {
    "scrolled": false
   },
   "outputs": [
    {
     "data": {
      "image/png": "[encoded data removed]",
      "text/plain": [
       "<matplotlib.figure.Figure at 0x1ee227df5c0>"
      ]
     },
     "metadata": {},
     "output_type": "display_data"
    }
   ],
   "source": [
    "\n",
    "x_values= [3,5,7,6,4,2,1]\n",
    "y_values= [40,60,80,70,50,30,30]\n",
    "def function(x_values,y_values):\n",
    "    plt.scatter(x_values,y_values)\n",
    "    plt.plot(x_values,y_values, color='green', marker='o', linestyle='solid')\n",
    "    # add a title\n",
    "    plt.title(\"biryani\")\n",
    "    # add a label to the y-axis and x-axis\n",
    "    plt.ylabel(\"weights\")\n",
    "    plt.xlabel(\"plates\")\n",
    "    plt.show()\n",
    "    \n",
    "function(x_values,y_values)\n",
    "#function(3,40)\n",
    "#function(6,70)\n",
    "\n"
   ]
  },
  {
   "cell_type": "markdown",
   "metadata": {},
   "source": [
    "# Working with model (Manual Regression Method)"
   ]
  },
  {
   "cell_type": "code",
   "execution_count": 6,
   "metadata": {},
   "outputs": [
    {
     "data": {
      "text/html": [
       "<div>\n",
       "<style scoped>\n",
       "    .dataframe tbody tr th:only-of-type {\n",
       "        vertical-align: middle;\n",
       "    }\n",
       "\n",
       "    .dataframe tbody tr th {\n",
       "        vertical-align: top;\n",
       "    }\n",
       "\n",
       "    .dataframe thead th {\n",
       "        text-align: right;\n",
       "    }\n",
       "</style>\n",
       "<table border=\"1\" class=\"dataframe\">\n",
       "  <thead>\n",
       "    <tr style=\"text-align: right;\">\n",
       "      <th></th>\n",
       "      <th>plates</th>\n",
       "      <th>weight</th>\n",
       "    </tr>\n",
       "  </thead>\n",
       "  <tbody>\n",
       "    <tr>\n",
       "      <th>0</th>\n",
       "      <td>3</td>\n",
       "      <td>40</td>\n",
       "    </tr>\n",
       "    <tr>\n",
       "      <th>1</th>\n",
       "      <td>5</td>\n",
       "      <td>60</td>\n",
       "    </tr>\n",
       "    <tr>\n",
       "      <th>2</th>\n",
       "      <td>7</td>\n",
       "      <td>80</td>\n",
       "    </tr>\n",
       "    <tr>\n",
       "      <th>3</th>\n",
       "      <td>6</td>\n",
       "      <td>70</td>\n",
       "    </tr>\n",
       "    <tr>\n",
       "      <th>4</th>\n",
       "      <td>4</td>\n",
       "      <td>50</td>\n",
       "    </tr>\n",
       "    <tr>\n",
       "      <th>5</th>\n",
       "      <td>2</td>\n",
       "      <td>30</td>\n",
       "    </tr>\n",
       "    <tr>\n",
       "      <th>6</th>\n",
       "      <td>1</td>\n",
       "      <td>30</td>\n",
       "    </tr>\n",
       "  </tbody>\n",
       "</table>\n",
       "</div>"
      ],
      "text/plain": [
       "   plates  weight\n",
       "0       3      40\n",
       "1       5      60\n",
       "2       7      80\n",
       "3       6      70\n",
       "4       4      50\n",
       "5       2      30\n",
       "6       1      30"
      ]
     },
     "execution_count": 6,
     "metadata": {},
     "output_type": "execute_result"
    }
   ],
   "source": [
    "pd.read_csv('assignment keras.csv')"
   ]
  },
  {
   "cell_type": "code",
   "execution_count": 7,
   "metadata": {},
   "outputs": [],
   "source": [
    "df=pd.read_csv('assignment keras.csv')"
   ]
  },
  {
   "cell_type": "code",
   "execution_count": 8,
   "metadata": {},
   "outputs": [
    {
     "data": {
      "text/html": [
       "<div>\n",
       "<style scoped>\n",
       "    .dataframe tbody tr th:only-of-type {\n",
       "        vertical-align: middle;\n",
       "    }\n",
       "\n",
       "    .dataframe tbody tr th {\n",
       "        vertical-align: top;\n",
       "    }\n",
       "\n",
       "    .dataframe thead th {\n",
       "        text-align: right;\n",
       "    }\n",
       "</style>\n",
       "<table border=\"1\" class=\"dataframe\">\n",
       "  <thead>\n",
       "    <tr style=\"text-align: right;\">\n",
       "      <th></th>\n",
       "      <th>plates</th>\n",
       "      <th>weight</th>\n",
       "    </tr>\n",
       "  </thead>\n",
       "  <tbody>\n",
       "    <tr>\n",
       "      <th>count</th>\n",
       "      <td>7.000000</td>\n",
       "      <td>7.000000</td>\n",
       "    </tr>\n",
       "    <tr>\n",
       "      <th>mean</th>\n",
       "      <td>4.000000</td>\n",
       "      <td>51.428571</td>\n",
       "    </tr>\n",
       "    <tr>\n",
       "      <th>std</th>\n",
       "      <td>2.160247</td>\n",
       "      <td>19.518001</td>\n",
       "    </tr>\n",
       "    <tr>\n",
       "      <th>min</th>\n",
       "      <td>1.000000</td>\n",
       "      <td>30.000000</td>\n",
       "    </tr>\n",
       "    <tr>\n",
       "      <th>25%</th>\n",
       "      <td>2.500000</td>\n",
       "      <td>35.000000</td>\n",
       "    </tr>\n",
       "    <tr>\n",
       "      <th>50%</th>\n",
       "      <td>4.000000</td>\n",
       "      <td>50.000000</td>\n",
       "    </tr>\n",
       "    <tr>\n",
       "      <th>75%</th>\n",
       "      <td>5.500000</td>\n",
       "      <td>65.000000</td>\n",
       "    </tr>\n",
       "    <tr>\n",
       "      <th>max</th>\n",
       "      <td>7.000000</td>\n",
       "      <td>80.000000</td>\n",
       "    </tr>\n",
       "  </tbody>\n",
       "</table>\n",
       "</div>"
      ],
      "text/plain": [
       "         plates     weight\n",
       "count  7.000000   7.000000\n",
       "mean   4.000000  51.428571\n",
       "std    2.160247  19.518001\n",
       "min    1.000000  30.000000\n",
       "25%    2.500000  35.000000\n",
       "50%    4.000000  50.000000\n",
       "75%    5.500000  65.000000\n",
       "max    7.000000  80.000000"
      ]
     },
     "execution_count": 8,
     "metadata": {},
     "output_type": "execute_result"
    }
   ],
   "source": [
    "df.describe()"
   ]
  },
  {
   "cell_type": "code",
   "execution_count": 9,
   "metadata": {},
   "outputs": [
    {
     "data": {
      "text/plain": [
       "<matplotlib.axes._subplots.AxesSubplot at 0x1ee24919588>"
      ]
     },
     "execution_count": 9,
     "metadata": {},
     "output_type": "execute_result"
    },
    {
     "data": {
      "image/png": "[encoded data removed]",
      "text/plain": [
       "<matplotlib.figure.Figure at 0x1ee2490df28>"
      ]
     },
     "metadata": {},
     "output_type": "display_data"
    }
   ],
   "source": [
    "df.plot(kind='scatter',x='plates',y='weight',title='Plates and weights')"
   ]
  },
  {
   "cell_type": "markdown",
   "metadata": {},
   "source": [
    "# Manual Tuning"
   ]
  },
  {
   "cell_type": "code",
   "execution_count": 10,
   "metadata": {},
   "outputs": [],
   "source": [
    "def line(x, w=10, b=10):\n",
    "    y=w*x+b          #y=mx+c\n",
    "    return y"
   ]
  },
  {
   "cell_type": "markdown",
   "metadata": {},
   "source": [
    "# Loss Function"
   ]
  },
  {
   "cell_type": "code",
   "execution_count": 35,
   "metadata": {},
   "outputs": [],
   "source": [
    "def loss_function(y_true,y_pred):\n",
    "    s=y_true-y_pred      #Not used square here\n",
    "    return s.mean()"
   ]
  },
  {
   "cell_type": "code",
   "execution_count": 36,
   "metadata": {},
   "outputs": [],
   "source": [
    "X=df[['plates']].values\n",
    "y_true=df[['weight']].values"
   ]
  },
  {
   "cell_type": "code",
   "execution_count": 37,
   "metadata": {},
   "outputs": [
    {
     "data": {
      "text/plain": [
       "[<matplotlib.lines.Line2D at 0x1ee249c4f60>]"
      ]
     },
     "execution_count": 37,
     "metadata": {},
     "output_type": "execute_result"
    },
    {
     "data": {
      "image/png": "[encoded data removed]",
      "text/plain": [
       "<matplotlib.figure.Figure at 0x1ee249c4cc0>"
      ]
     },
     "metadata": {},
     "output_type": "display_data"
    }
   ],
   "source": [
    "y_pred=line(X)\n",
    "\n",
    "df.plot(kind='scatter',x='plates',y='weight',title='plates and weight')\n",
    "plt.plot(X,y_pred,color='red')"
   ]
  },
  {
   "cell_type": "code",
   "execution_count": 38,
   "metadata": {},
   "outputs": [
    {
     "data": {
      "text/plain": [
       "array([[40],\n",
       "       [60],\n",
       "       [80],\n",
       "       [70],\n",
       "       [50],\n",
       "       [30],\n",
       "       [20]], dtype=int64)"
      ]
     },
     "execution_count": 38,
     "metadata": {},
     "output_type": "execute_result"
    }
   ],
   "source": [
    "y_pred"
   ]
  },
  {
   "cell_type": "code",
   "execution_count": 39,
   "metadata": {},
   "outputs": [
    {
     "data": {
      "text/plain": [
       "array([[40],\n",
       "       [60],\n",
       "       [80],\n",
       "       [70],\n",
       "       [50],\n",
       "       [30],\n",
       "       [30]], dtype=int64)"
      ]
     },
     "execution_count": 39,
     "metadata": {},
     "output_type": "execute_result"
    }
   ],
   "source": [
    "y_true"
   ]
  },
  {
   "cell_type": "code",
   "execution_count": 40,
   "metadata": {},
   "outputs": [
    {
     "data": {
      "text/plain": [
       "1.4285714285714286"
      ]
     },
     "execution_count": 40,
     "metadata": {},
     "output_type": "execute_result"
    }
   ],
   "source": [
    "loss_function(y_true,y_pred) #1.42 is because 10/7(average). It is not telling me probability of the system!"
   ]
  },
  {
   "cell_type": "markdown",
   "metadata": {},
   "source": [
    "# Now working with model using optimizers and keras"
   ]
  },
  {
   "cell_type": "code",
   "execution_count": 43,
   "metadata": {},
   "outputs": [],
   "source": [
    "from keras.models import Sequential\n",
    "from keras.layers import Dense \n",
    "from keras.optimizers import Adam, SGD"
   ]
  },
  {
   "cell_type": "code",
   "execution_count": 45,
   "metadata": {},
   "outputs": [],
   "source": [
    "model = Sequential()\n",
    "model.add(Dense(1,input_shape=(1,)))"
   ]
  },
  {
   "cell_type": "code",
   "execution_count": 46,
   "metadata": {},
   "outputs": [
    {
     "name": "stdout",
     "output_type": "stream",
     "text": [
      "_________________________________________________________________\n",
      "Layer (type)                 Output Shape              Param #   \n",
      "=================================================================\n",
      "dense_1 (Dense)              (None, 1)                 2         \n",
      "=================================================================\n",
      "Total params: 2\n",
      "Trainable params: 2\n",
      "Non-trainable params: 0\n",
      "_________________________________________________________________\n"
     ]
    }
   ],
   "source": [
    "model.summary()"
   ]
  },
  {
   "cell_type": "code",
   "execution_count": 50,
   "metadata": {},
   "outputs": [],
   "source": [
    "model.compile(Adam(lr=0.7),'mean_squared_error')"
   ]
  },
  {
   "cell_type": "code",
   "execution_count": 51,
   "metadata": {},
   "outputs": [
    {
     "name": "stdout",
     "output_type": "stream",
     "text": [
      "Epoch 1/40\n",
      "7/7 [==============================] - 0s 27ms/step - loss: 2478.1086\n",
      "Epoch 2/40\n",
      "7/7 [==============================] - 0s 199us/step - loss: 2118.2371\n",
      "Epoch 3/40\n",
      "7/7 [==============================] - 0s 465us/step - loss: 1787.6864\n",
      "Epoch 4/40\n",
      "7/7 [==============================] - 0s 463us/step - loss: 1486.8645\n",
      "Epoch 5/40\n",
      "7/7 [==============================] - 0s 620us/step - loss: 1216.0150\n",
      "Epoch 6/40\n",
      "7/7 [==============================] - 0s 227us/step - loss: 975.1713\n",
      "Epoch 7/40\n",
      "7/7 [==============================] - 0s 694us/step - loss: 764.1295\n",
      "Epoch 8/40\n",
      "7/7 [==============================] - 0s 453us/step - loss: 582.4126\n",
      "Epoch 9/40\n",
      "7/7 [==============================] - 0s 399us/step - loss: 429.2327\n",
      "Epoch 10/40\n",
      "7/7 [==============================] - 0s 406us/step - loss: 303.4622\n",
      "Epoch 11/40\n",
      "7/7 [==============================] - 0s 323us/step - loss: 203.6109\n",
      "Epoch 12/40\n",
      "7/7 [==============================] - 0s 810us/step - loss: 127.8163\n",
      "Epoch 13/40\n",
      "7/7 [==============================] - 0s 407us/step - loss: 73.8519\n",
      "Epoch 14/40\n",
      "7/7 [==============================] - 0s 309us/step - loss: 39.1579\n",
      "Epoch 15/40\n",
      "7/7 [==============================] - 0s 379us/step - loss: 20.8996\n",
      "Epoch 16/40\n",
      "7/7 [==============================] - 0s 291us/step - loss: 16.0513\n",
      "Epoch 17/40\n",
      "7/7 [==============================] - 0s 382us/step - loss: 21.5053\n",
      "Epoch 18/40\n",
      "7/7 [==============================] - 0s 369us/step - loss: 34.1963\n",
      "Epoch 19/40\n",
      "7/7 [==============================] - 0s 386us/step - loss: 51.2311\n",
      "Epoch 20/40\n",
      "7/7 [==============================] - 0s 573us/step - loss: 70.0098\n",
      "Epoch 21/40\n",
      "7/7 [==============================] - 0s 556us/step - loss: 88.3261\n",
      "Epoch 22/40\n",
      "7/7 [==============================] - 0s 495us/step - loss: 104.4359\n",
      "Epoch 23/40\n",
      "7/7 [==============================] - 0s 500us/step - loss: 117.0898\n",
      "Epoch 24/40\n",
      "7/7 [==============================] - 0s 365us/step - loss: 125.5292\n",
      "Epoch 25/40\n",
      "7/7 [==============================] - 0s 439us/step - loss: 129.4502\n",
      "Epoch 26/40\n",
      "7/7 [==============================] - 0s 353us/step - loss: 128.9436\n",
      "Epoch 27/40\n",
      "7/7 [==============================] - 0s 237us/step - loss: 124.4175\n",
      "Epoch 28/40\n",
      "7/7 [==============================] - 0s 307us/step - loss: 116.5146\n",
      "Epoch 29/40\n",
      "7/7 [==============================] - 0s 286us/step - loss: 106.0267\n",
      "Epoch 30/40\n",
      "7/7 [==============================] - 0s 622us/step - loss: 93.8163\n",
      "Epoch 31/40\n",
      "7/7 [==============================] - 0s 286us/step - loss: 80.7462\n",
      "Epoch 32/40\n",
      "7/7 [==============================] - 0s 437us/step - loss: 67.6217\n",
      "Epoch 33/40\n",
      "7/7 [==============================] - 0s 0us/step - loss: 55.1439\n",
      "Epoch 34/40\n",
      "7/7 [==============================] - 0s 444us/step - loss: 43.8789\n",
      "Epoch 35/40\n",
      "7/7 [==============================] - 0s 287us/step - loss: 34.2377\n",
      "Epoch 36/40\n",
      "7/7 [==============================] - 0s 0us/step - loss: 26.4703\n",
      "Epoch 37/40\n",
      "7/7 [==============================] - 0s 295us/step - loss: 20.6704\n",
      "Epoch 38/40\n",
      "7/7 [==============================] - 0s 430us/step - loss: 16.7897\n",
      "Epoch 39/40\n",
      "7/7 [==============================] - 0s 312us/step - loss: 14.6608\n",
      "Epoch 40/40\n",
      "7/7 [==============================] - 0s 602us/step - loss: 14.0244\n"
     ]
    },
    {
     "data": {
      "text/plain": [
       "<keras.callbacks.History at 0x1ee29778b38>"
      ]
     },
     "execution_count": 51,
     "metadata": {},
     "output_type": "execute_result"
    }
   ],
   "source": [
    "model.fit(X,y_true,epochs=40)"
   ]
  },
  {
   "cell_type": "code",
   "execution_count": 52,
   "metadata": {},
   "outputs": [],
   "source": [
    "y_pred1=model.predict(X)"
   ]
  },
  {
   "cell_type": "code",
   "execution_count": 55,
   "metadata": {},
   "outputs": [
    {
     "data": {
      "text/plain": [
       "[<matplotlib.lines.Line2D at 0x1ee29a7b080>]"
      ]
     },
     "execution_count": 55,
     "metadata": {},
     "output_type": "execute_result"
    },
    {
     "data": {
      "image/png": "[encoded data removed]",
      "text/plain": [
       "<matplotlib.figure.Figure at 0x1ee29a6cfd0>"
      ]
     },
     "metadata": {},
     "output_type": "display_data"
    }
   ],
   "source": [
    "df.plot(kind='scatter',x='plates',y='weight',title='plates and weights')\n",
    "plt.plot(X,y_pred1, color='red')"
   ]
  },
  {
   "cell_type": "code",
   "execution_count": 56,
   "metadata": {},
   "outputs": [],
   "source": [
    "w,b=model.get_weights()"
   ]
  },
  {
   "cell_type": "code",
   "execution_count": 57,
   "metadata": {},
   "outputs": [
    {
     "data": {
      "text/plain": [
       "array([[9.9428425]], dtype=float32)"
      ]
     },
     "execution_count": 57,
     "metadata": {},
     "output_type": "execute_result"
    }
   ],
   "source": [
    "w"
   ]
  },
  {
   "cell_type": "code",
   "execution_count": 58,
   "metadata": {},
   "outputs": [
    {
     "data": {
      "text/plain": [
       "array([9.985979], dtype=float32)"
      ]
     },
     "execution_count": 58,
     "metadata": {},
     "output_type": "execute_result"
    }
   ],
   "source": [
    "b"
   ]
  },
  {
   "cell_type": "code",
   "execution_count": null,
   "metadata": {},
   "outputs": [],
   "source": []
  }
 ],
 "metadata": {
  "kernelspec": {
   "display_name": "Python 3",
   "language": "python",
   "name": "python3"
  },
  "language_info": {
   "codemirror_mode": {
    "name": "ipython",
    "version": 3
   },
   "file_extension": ".py",
   "mimetype": "text/x-python",
   "name": "python",
   "nbconvert_exporter": "python",
   "pygments_lexer": "ipython3",
   "version": "3.6.4"
  }
 },
 "nbformat": 4,
 "nbformat_minor": 2
}
