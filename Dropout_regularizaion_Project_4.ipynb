{
  "nbformat": 4,
  "nbformat_minor": 0,
  "metadata": {
    "colab": {
      "name": "Dropout regularizaion Project 4.ipynb",
      "version": "0.3.2",
      "provenance": [],
      "collapsed_sections": [
        "UUqJ0q1NfUjT"
      ],
      "include_colab_link": true
    },
    "kernelspec": {
      "name": "python3",
      "display_name": "Python 3"
    },
    "accelerator": "TPU"
  },
  "cells": [
    {
      "cell_type": "markdown",
      "metadata": {
        "id": "view-in-github",
        "colab_type": "text"
      },
      "source": [
        "<a href=\"https://colab.research.google.com/github/danidavid/Tensorflow-Keras-Repo/blob/master/Dropout_regularizaion_Project_4.ipynb\" target=\"_parent\"><img src=\"https://colab.research.google.com/assets/colab-badge.svg\" alt=\"Open In Colab\"/></a>"
      ]
    },
    {
      "metadata": {
        "id": "ouyaUEWI2d1S",
        "colab_type": "text"
      },
      "cell_type": "markdown",
      "source": [
        "# Importing dataset"
      ]
    },
    {
      "metadata": {
        "id": "Iv6E3t-K-QYL",
        "colab_type": "code",
        "colab": {}
      },
      "cell_type": "code",
      "source": [
        "import pandas as pd \n",
        "import io\n",
        "import requests\n",
        "\n",
        "#This will be used for online dataset import\n",
        "url='https://archive.ics.uci.edu/ml/machine-learning-databases/undocumented/connectionist-bench/sonar/sonar.all-data'\n",
        "\n",
        "s=requests.get(url).content\n",
        "\n",
        "df=pd.read_csv(io.StringIO(s.decode('UTF-8')),header=None)\n"
      ],
      "execution_count": 0,
      "outputs": []
    },
    {
      "metadata": {
        "id": "oBF1dJYb7JGX",
        "colab_type": "text"
      },
      "cell_type": "markdown",
      "source": [
        "# Step 3: Dropout Regularization in Keras"
      ]
    },
    {
      "metadata": {
        "id": "egr8S7AZSfEX",
        "colab_type": "text"
      },
      "cell_type": "markdown",
      "source": [
        "## Importing library"
      ]
    },
    {
      "metadata": {
        "id": "PpFiIB1sH6fg",
        "colab_type": "code",
        "colab": {}
      },
      "cell_type": "code",
      "source": [
        "import pandas\n",
        "import numpy\n",
        "import io\n",
        "import requests\n",
        "import pandas as pd\n",
        "import numpy as np\n",
        "import keras\n",
        "from keras import layers\n",
        "from keras.models import Sequential\n",
        "from keras.layers import Input, Dense, Dropout\n",
        "from keras.models import Model\n",
        "from keras.wrappers.scikit_learn import KerasClassifier\n",
        "from sklearn.model_selection import cross_val_score\n",
        "from sklearn.preprocessing import LabelEncoder\n",
        "from sklearn.model_selection import StratifiedKFold\n",
        "from sklearn.preprocessing import StandardScaler\n",
        "from sklearn.pipeline import Pipeline"
      ],
      "execution_count": 0,
      "outputs": []
    },
    {
      "metadata": {
        "id": "aqy51f_fI_qi",
        "colab_type": "code",
        "colab": {}
      },
      "cell_type": "code",
      "source": [
        "# Baseline Model on the Sonar Dataset\n",
        "from keras.wrappers.scikit_learn import KerasClassifier\n",
        "from keras.constraints import maxnorm\n",
        "from keras.optimizers import SGD\n"
      ],
      "execution_count": 0,
      "outputs": []
    },
    {
      "metadata": {
        "id": "P4dybhvCXSvP",
        "colab_type": "code",
        "colab": {}
      },
      "cell_type": "code",
      "source": [
        "# fix random seed for reproducibility\n",
        "seed = 7\n",
        "numpy.random.seed(seed)"
      ],
      "execution_count": 0,
      "outputs": []
    },
    {
      "metadata": {
        "id": "XDvrIEVII6bC",
        "colab_type": "text"
      },
      "cell_type": "markdown",
      "source": [
        "# To convert R and M into integer values 0 and 1"
      ]
    },
    {
      "metadata": {
        "id": "27WzLEawI6bU",
        "colab_type": "code",
        "colab": {}
      },
      "cell_type": "code",
      "source": [
        "# split into input (X) and output (Y) variables\n",
        "dataset=df.values\n",
        "X=dataset[:,0:60].astype(float)\n",
        "Y=dataset[:,60]"
      ],
      "execution_count": 0,
      "outputs": []
    },
    {
      "metadata": {
        "id": "Tqh5GVSmI6a7",
        "colab_type": "code",
        "colab": {}
      },
      "cell_type": "code",
      "source": [
        "encoder = LabelEncoder()\n",
        "encoder.fit(Y)\n",
        "encoded_Y = encoder.transform(Y)"
      ],
      "execution_count": 0,
      "outputs": []
    },
    {
      "metadata": {
        "id": "VAdBbhKJ0Mzc",
        "colab_type": "text"
      },
      "cell_type": "markdown",
      "source": [
        "# Starting Keras Models"
      ]
    },
    {
      "metadata": {
        "id": "UUqJ0q1NfUjT",
        "colab_type": "text"
      },
      "cell_type": "markdown",
      "source": [
        "# Step 3: Dropout Regularization in Keras"
      ]
    },
    {
      "metadata": {
        "id": "BEd-UG3N3evQ",
        "colab_type": "code",
        "colab": {}
      },
      "cell_type": "code",
      "source": [
        "# baseline\n",
        "def create_baseline():\n",
        "\t# create model\n",
        "\tmodel = Sequential()\n",
        "\tmodel.add(Dense(60, input_dim=60, kernel_initializer='normal', activation='relu'))\n",
        "\tmodel.add(Dense(30, kernel_initializer='normal', activation='relu'))\n",
        "\tmodel.add(Dense(1, kernel_initializer='normal', activation='sigmoid'))\n",
        "\t# Compile model\n",
        "\tsgd = SGD(lr=0.01, momentum=0.8, decay=0.0, nesterov=False)\n",
        "\tmodel.compile(loss='binary_crossentropy', optimizer=sgd, metrics=['accuracy'])\n",
        "\treturn model\n"
      ],
      "execution_count": 0,
      "outputs": []
    },
    {
      "metadata": {
        "id": "2EyVJGM547jF",
        "colab_type": "code",
        "outputId": "9aea973d-7dff-489e-c1e6-2f9bf90fd256",
        "colab": {
          "base_uri": "https://localhost:8080/",
          "height": 34
        }
      },
      "cell_type": "code",
      "source": [
        "numpy.random.seed(seed)\n",
        "estimators = []\n",
        "estimators.append(('standardize', StandardScaler()))\n",
        "estimators.append(('mlp', KerasClassifier(build_fn=create_baseline, epochs=300, batch_size=16, verbose=0)))\n",
        "pipeline = Pipeline(estimators)\n",
        "kfold = StratifiedKFold(n_splits=10, shuffle=True, random_state=seed)\n",
        "results = cross_val_score(pipeline, X, encoded_Y, cv=kfold)\n",
        "print(\"Baseline: %.2f%% (%.2f%%)\" % (results.mean()*100, results.std()*100))\n"
      ],
      "execution_count": 0,
      "outputs": [
        {
          "output_type": "stream",
          "text": [
            "Baseline: 82.14% (7.30%)\n"
          ],
          "name": "stdout"
        }
      ]
    },
    {
      "metadata": {
        "id": "PEsDESwxcg6K",
        "colab_type": "text"
      },
      "cell_type": "markdown",
      "source": [
        "#Step 4: Using Dropout on the Visible Layer"
      ]
    },
    {
      "metadata": {
        "id": "uhWyY5hVcluY",
        "colab_type": "code",
        "colab": {}
      },
      "cell_type": "code",
      "source": [
        "# baseline\n",
        "def create_model():\n",
        "\t# create model\n",
        "\tmodel = Sequential()\n",
        "\tmodel.add(Dense(60, input_dim=60, kernel_initializer='normal', activation='relu',kernel_constraint=maxnorm(3)))\n",
        "\tmodel.add(Dense(30, kernel_initializer='normal', activation='relu'))\n",
        "\tmodel.add(Dense(1, kernel_initializer='normal', activation='sigmoid'))\n",
        "  # Compile model\n",
        "\tsgd = SGD(lr=0.1, momentum=0.9, decay=0.0, nesterov=False)\n",
        "\tmodel.compile(loss='binary_crossentropy', optimizer=sgd, metrics=['accuracy'])\n",
        "\treturn model\n",
        "\n"
      ],
      "execution_count": 0,
      "outputs": []
    },
    {
      "metadata": {
        "id": "LWbvB8R1ctT7",
        "colab_type": "code",
        "outputId": "704fe0d5-c499-4b2a-e560-59de98d32bcc",
        "colab": {
          "base_uri": "https://localhost:8080/",
          "height": 34
        }
      },
      "cell_type": "code",
      "source": [
        "numpy.random.seed(seed)\n",
        "estimators = []\n",
        "estimators.append(('standardize', StandardScaler()))\n",
        "estimators.append(('mlp', KerasClassifier(build_fn=create_model, epochs=300, batch_size=16, verbose=0)))\n",
        "pipeline = Pipeline(estimators)\n",
        "kfold = StratifiedKFold(n_splits=10, shuffle=True, random_state=seed)\n",
        "results = cross_val_score(pipeline, X, encoded_Y, cv=kfold)\n",
        "print(\"Visible: %.2f%% (%.2f%%)\" % (results.mean()*100, results.std()*100))"
      ],
      "execution_count": 0,
      "outputs": [
        {
          "output_type": "stream",
          "text": [
            "Visible: 81.16% (6.88%)\n"
          ],
          "name": "stdout"
        }
      ]
    },
    {
      "metadata": {
        "id": "2EiJQS6A4MeM",
        "colab_type": "text"
      },
      "cell_type": "markdown",
      "source": [
        "# Step 5: Trying to Improve Performance"
      ]
    },
    {
      "metadata": {
        "id": "pa5L3tmp64uc",
        "colab_type": "code",
        "colab": {}
      },
      "cell_type": "code",
      "source": [
        "# baseline\n",
        "def create_model_improved():\n",
        "\t# create model\n",
        "\tmodel = Sequential()\n",
        "\tmodel.add(Dense(60, input_dim=60, kernel_initializer='normal', activation='relu',kernel_constraint=maxnorm(3)))\n",
        "\tmodel.add(Dense(30, kernel_initializer='normal', activation='relu'))\n",
        "\tmodel.add(Dense(1, kernel_initializer='normal', activation='sigmoid'))\n",
        "  # Compile model\n",
        "\tsgd = SGD(lr=0.07, momentum=0.9, decay=0.0, nesterov=False)\n",
        "\tmodel.compile(loss='binary_crossentropy', optimizer=sgd, metrics=['accuracy'])\n",
        "\treturn model"
      ],
      "execution_count": 0,
      "outputs": []
    },
    {
      "metadata": {
        "id": "qhsw_oGi7eIW",
        "colab_type": "code",
        "outputId": "1414ae71-f469-46d6-94d5-40297bfea777",
        "colab": {
          "base_uri": "https://localhost:8080/",
          "height": 34
        }
      },
      "cell_type": "code",
      "source": [
        "numpy.random.seed(seed)\n",
        "estimators = []\n",
        "estimators.append(('standardize', StandardScaler()))\n",
        "estimators.append(('mlp', KerasClassifier(build_fn=create_model_improved, epochs=500, batch_size=16, verbose=0)))\n",
        "pipeline = Pipeline(estimators)\n",
        "kfold = StratifiedKFold(n_splits=10, shuffle=True, random_state=seed)\n",
        "results = cross_val_score(pipeline, X, encoded_Y, cv=kfold)\n",
        "print(\"Improved: %.2f%% (%.2f%%)\" % (results.mean()*100, results.std()*100))"
      ],
      "execution_count": 0,
      "outputs": [
        {
          "output_type": "stream",
          "text": [
            "Improved: 86.00% (6.32%)\n"
          ],
          "name": "stdout"
        }
      ]
    },
    {
      "metadata": {
        "id": "HOpElTIH9vk6",
        "colab_type": "text"
      },
      "cell_type": "markdown",
      "source": [
        "# Step 6: Using Dropout on Hidden Layers"
      ]
    },
    {
      "metadata": {
        "id": "qw2Og8zL9xiP",
        "colab_type": "code",
        "colab": {}
      },
      "cell_type": "code",
      "source": [
        "# baseline\n",
        "def create_model_hidden():\n",
        "\t# create model\n",
        "\tmodel = Sequential()\n",
        "\tmodel.add(Dense(60, input_dim=60, kernel_initializer='normal', activation='relu'))\n",
        "\tmodel.add(Dense(30, kernel_initializer='normal', activation='relu',kernel_constraint=maxnorm(3)))\n",
        "\tmodel.add(Dense(1, kernel_initializer='normal', activation='sigmoid'))\n",
        "  # Compile model\n",
        "\tsgd = SGD(lr=0.1, momentum=0.9, decay=0.0, nesterov=False)\n",
        "\tmodel.compile(loss='binary_crossentropy', optimizer=sgd, metrics=['accuracy'])\n",
        "\treturn model"
      ],
      "execution_count": 0,
      "outputs": []
    },
    {
      "metadata": {
        "id": "d_buTCU69xGH",
        "colab_type": "code",
        "outputId": "861bb79c-0140-43f9-bc92-b85bf07b8e61",
        "colab": {
          "base_uri": "https://localhost:8080/",
          "height": 34
        }
      },
      "cell_type": "code",
      "source": [
        "numpy.random.seed(seed)\n",
        "estimators = []\n",
        "estimators.append(('standardize', StandardScaler()))\n",
        "estimators.append(('mlp', KerasClassifier(build_fn=create_model_hidden, epochs=300, batch_size=16, verbose=0)))\n",
        "pipeline = Pipeline(estimators)\n",
        "kfold = StratifiedKFold(n_splits=10, shuffle=True, random_state=seed)\n",
        "results = cross_val_score(pipeline, X, encoded_Y, cv=kfold)\n",
        "print(\"Hidden: %.2f%% (%.2f%%)\" % (results.mean()*100, results.std()*100))\n"
      ],
      "execution_count": 0,
      "outputs": [
        {
          "output_type": "stream",
          "text": [
            "Hidden: 84.06% (5.50%)\n"
          ],
          "name": "stdout"
        }
      ]
    },
    {
      "metadata": {
        "id": "lrB3NM-lFO74",
        "colab_type": "text"
      },
      "cell_type": "markdown",
      "source": [
        "# Step 7: Trying to Improve Performance"
      ]
    },
    {
      "metadata": {
        "id": "rc7mOADk9GRM",
        "colab_type": "code",
        "colab": {}
      },
      "cell_type": "code",
      "source": [
        "# baseline\n",
        "def create_model_hidden_improved():\n",
        "\t# create model\n",
        "\tmodel = Sequential()\n",
        "\tmodel.add(Dense(60, input_dim=60, kernel_initializer='normal', activation='relu'))\n",
        "\tmodel.add(Dense(30, kernel_initializer='normal', activation='relu',kernel_constraint=maxnorm(3)))\n",
        "\tmodel.add(Dense(1, kernel_initializer='normal', activation='sigmoid'))\n",
        "  # Compile model\n",
        "\tsgd = SGD(lr=0.07, momentum=0.9, decay=0.0, nesterov=False)\n",
        "\tmodel.compile(loss='binary_crossentropy', optimizer=sgd, metrics=['accuracy'])\n",
        "\treturn model"
      ],
      "execution_count": 0,
      "outputs": []
    },
    {
      "metadata": {
        "id": "YpWzrnp2FZ-3",
        "colab_type": "code",
        "outputId": "62dcc0b1-83c8-4d22-efb2-b382d4bb5836",
        "colab": {
          "base_uri": "https://localhost:8080/",
          "height": 34
        }
      },
      "cell_type": "code",
      "source": [
        "numpy.random.seed(seed)\n",
        "estimators = []\n",
        "estimators.append(('standardize', StandardScaler()))\n",
        "estimators.append(('mlp', KerasClassifier(build_fn=create_model_hidden_improved, epochs=500, batch_size=16, verbose=0)))\n",
        "pipeline = Pipeline(estimators)\n",
        "kfold = StratifiedKFold(n_splits=10, shuffle=True, random_state=seed)\n",
        "results = cross_val_score(pipeline, X, encoded_Y, cv=kfold)\n",
        "print(\"Improved: %.2f%% (%.2f%%)\" % (results.mean()*100, results.std()*100))\n"
      ],
      "execution_count": 0,
      "outputs": [
        {
          "output_type": "stream",
          "text": [
            "Improved: 85.56% (7.11%)\n"
          ],
          "name": "stdout"
        }
      ]
    },
    {
      "metadata": {
        "id": "OkyHXoyVJ0WP",
        "colab_type": "text"
      },
      "cell_type": "markdown",
      "source": [
        "# Step 8: Tips For Using Dropout"
      ]
    },
    {
      "metadata": {
        "id": "1X-aVmmzKmjv",
        "colab_type": "text"
      },
      "cell_type": "markdown",
      "source": [
        "# Step 8.1: Try Different Dropout values"
      ]
    },
    {
      "metadata": {
        "id": "AkFXWo9mG_VG",
        "colab_type": "code",
        "colab": {}
      },
      "cell_type": "code",
      "source": [
        "# baseline\n",
        "def create_model_dropout():\n",
        "\t# create model\n",
        "  model = Sequential()\n",
        "  model.add(Dense(60, input_dim=60, kernel_initializer='normal', activation='relu'))\n",
        "  model.add(keras.layers.Dropout(0.3))\n",
        "  model.add(Dense(30, kernel_initializer='normal', activation='relu'))\n",
        "  model.add(keras.layers.Dropout(0.1))\n",
        "  model.add(Dense(1, kernel_initializer='normal', activation='sigmoid'))\n",
        "  # Compile model\n",
        "  sgd = SGD(lr=0.07, momentum=0.9, decay=0.0, nesterov=False)\n",
        "  model.compile(loss='binary_crossentropy', optimizer=sgd, metrics=['accuracy'])\n",
        "  return model"
      ],
      "execution_count": 0,
      "outputs": []
    },
    {
      "metadata": {
        "id": "FBWZAWt1MFRs",
        "colab_type": "code",
        "outputId": "5f5bedcf-5dc1-41a6-db95-30fb6d6236f6",
        "colab": {
          "base_uri": "https://localhost:8080/",
          "height": 34
        }
      },
      "cell_type": "code",
      "source": [
        "numpy.random.seed(seed)\n",
        "estimators = []\n",
        "estimators.append(('standardize', StandardScaler()))\n",
        "estimators.append(('mlp', KerasClassifier(build_fn=create_model_dropout, epochs=500, batch_size=16, verbose=0)))\n",
        "pipeline = Pipeline(estimators)\n",
        "kfold = StratifiedKFold(n_splits=10, shuffle=True, random_state=seed)\n",
        "results = cross_val_score(pipeline, X, encoded_Y, cv=kfold)\n",
        "print(\"Result: %.2f%% (%.2f%%)\" % (results.mean()*100, results.std()*100))"
      ],
      "execution_count": 0,
      "outputs": [
        {
          "output_type": "stream",
          "text": [
            "Result: 84.16% (8.01%)\n"
          ],
          "name": "stdout"
        }
      ]
    },
    {
      "metadata": {
        "id": "cA2vXIGWWmVO",
        "colab_type": "text"
      },
      "cell_type": "markdown",
      "source": [
        "# Step 8.2: Try using a Larger network"
      ]
    },
    {
      "metadata": {
        "id": "SPaM_nhhNaOL",
        "colab_type": "code",
        "colab": {}
      },
      "cell_type": "code",
      "source": [
        "# baseline\n",
        "def create_model_large():\n",
        "\t# create model\n",
        "  model = Sequential()\n",
        "  model.add(Dense(60, input_dim=60, kernel_initializer='normal', activation='relu'))\n",
        "  #model.add(keras.layers.Dropout(0.3))\n",
        "  model.add(Dense(30, kernel_initializer='normal', activation='relu'))\n",
        "  model.add(Dense(15, kernel_initializer='normal', activation='relu'))\n",
        "  model.add(Dense(5, kernel_initializer='normal', activation='relu'))\n",
        "  #model.add(keras.layers.Dropout(0.1))\n",
        "  model.add(Dense(1, kernel_initializer='normal', activation='sigmoid'))\n",
        "  # Compile model\n",
        "  sgd = SGD(lr=0.07, momentum=0.9, decay=0.0, nesterov=False)\n",
        "  model.compile(loss='binary_crossentropy', optimizer=sgd, metrics=['accuracy'])\n",
        "  return model"
      ],
      "execution_count": 0,
      "outputs": []
    },
    {
      "metadata": {
        "id": "_m1gi9ShW0kS",
        "colab_type": "code",
        "outputId": "7af317f3-819b-4a5f-e5ec-554e597e7538",
        "colab": {
          "base_uri": "https://localhost:8080/",
          "height": 34
        }
      },
      "cell_type": "code",
      "source": [
        "numpy.random.seed(seed)\n",
        "estimators = []\n",
        "estimators.append(('standardize', StandardScaler()))\n",
        "estimators.append(('mlp', KerasClassifier(build_fn=create_model_large, epochs=500, batch_size=16, verbose=0)))\n",
        "pipeline = Pipeline(estimators)\n",
        "kfold = StratifiedKFold(n_splits=10, shuffle=True, random_state=seed)\n",
        "results = cross_val_score(pipeline, X, encoded_Y, cv=kfold)\n",
        "print(\"Result: %.2f%% (%.2f%%)\" % (results.mean()*100, results.std()*100))"
      ],
      "execution_count": 0,
      "outputs": [
        {
          "output_type": "stream",
          "text": [
            "Result: 79.32% (11.09%)\n"
          ],
          "name": "stdout"
        }
      ]
    },
    {
      "metadata": {
        "id": "DooKkfYDeylY",
        "colab_type": "text"
      },
      "cell_type": "markdown",
      "source": [
        "# Step 8.3: Try using Dropout on both visible and hidden units"
      ]
    },
    {
      "metadata": {
        "colab_type": "code",
        "id": "aI4vx9HDe8sd",
        "colab": {}
      },
      "cell_type": "code",
      "source": [
        "# baseline\n",
        "def dropout_visible_hidden():\n",
        "\t# create model\n",
        "  model = Sequential()\n",
        "  model.add(Dense(60, input_dim=60, kernel_initializer='normal', activation='relu'))\n",
        "  model.add(keras.layers.Dropout(0.0015))\n",
        "  model.add(Dense(30, kernel_initializer='normal', activation='relu'))\n",
        "  model.add(keras.layers.Dropout(0.0030))\n",
        "  model.add(Dense(15, kernel_initializer='normal', activation='relu'))\n",
        "  model.add(keras.layers.Dropout(0.02))\n",
        "  model.add(Dense(5, kernel_initializer='normal', activation='relu'))\n",
        "  model.add(keras.layers.Dropout(0.01))\n",
        "  model.add(Dense(1, kernel_initializer='normal', activation='sigmoid'))\n",
        "  # Compile model\n",
        "  sgd = SGD(lr=0.07, momentum=0.9, decay=0.0, nesterov=False)\n",
        "  model.compile(loss='binary_crossentropy', optimizer=sgd, metrics=['accuracy'])\n",
        "  return model"
      ],
      "execution_count": 0,
      "outputs": []
    },
    {
      "metadata": {
        "colab_type": "code",
        "id": "_v1HjSVBe8su",
        "outputId": "b5ea0147-e2c4-4366-b455-1b8c7ee98257",
        "colab": {
          "base_uri": "https://localhost:8080/",
          "height": 34
        }
      },
      "cell_type": "code",
      "source": [
        "numpy.random.seed(seed)\n",
        "estimators = []\n",
        "estimators.append(('standardize', StandardScaler()))\n",
        "estimators.append(('mlp', KerasClassifier(build_fn=dropout_visible_hidden, epochs=500, batch_size=16, verbose=0)))\n",
        "pipeline = Pipeline(estimators)\n",
        "kfold = StratifiedKFold(n_splits=10, shuffle=True, random_state=seed)\n",
        "results = cross_val_score(pipeline, X, encoded_Y, cv=kfold)\n",
        "print(\"Result: %.2f%% (%.2f%%)\" % (results.mean()*100, results.std()*100))"
      ],
      "execution_count": 0,
      "outputs": [
        {
          "output_type": "stream",
          "text": [
            "Result: 78.30% (13.31%)\n"
          ],
          "name": "stdout"
        }
      ]
    },
    {
      "metadata": {
        "id": "UChFfgpU0ix4",
        "colab_type": "text"
      },
      "cell_type": "markdown",
      "source": [
        "# Step 8.4: Try using large learning rate with decay and larger momentum"
      ]
    },
    {
      "metadata": {
        "colab_type": "code",
        "id": "OH10eHr60mvm",
        "colab": {}
      },
      "cell_type": "code",
      "source": [
        "# baseline\n",
        "def large_lr_momentum():\n",
        "\t# create model\n",
        "  model = Sequential()\n",
        "  model.add(Dense(60, input_dim=60, kernel_initializer='normal', activation='relu'))\n",
        "  model.add(keras.layers.Dropout(0.2))\n",
        "  model.add(Dense(30, kernel_initializer='normal', activation='relu'))\n",
        "  model.add(keras.layers.Dropout(0.15)) \n",
        "  model.add(Dense(15, kernel_initializer='normal', activation='relu'))\n",
        "  model.add(keras.layers.Dropout(0.1))\n",
        "  model.add(Dense(5, kernel_initializer='normal', activation='relu'))\n",
        "  model.add(keras.layers.Dropout(0.1))\n",
        "  model.add(Dense(1, kernel_initializer='normal', activation='sigmoid'))\n",
        "  # Compile model\n",
        "  sgd = SGD(lr=7, momentum=0.9, decay=0.2, nesterov=False)\n",
        "  model.compile(loss='binary_crossentropy', optimizer=sgd, metrics=['accuracy'])\n",
        "  return model"
      ],
      "execution_count": 0,
      "outputs": []
    },
    {
      "metadata": {
        "colab_type": "code",
        "id": "G99p3pGP0mv3",
        "outputId": "c735c755-d2af-4526-ef02-bee7e3d4a37d",
        "colab": {
          "base_uri": "https://localhost:8080/",
          "height": 34
        }
      },
      "cell_type": "code",
      "source": [
        "numpy.random.seed(seed)\n",
        "estimators = []\n",
        "estimators.append(('standardize', StandardScaler()))\n",
        "estimators.append(('mlp', KerasClassifier(build_fn=large_lr_momentum, epochs=600, batch_size=16, verbose=0)))\n",
        "pipeline = Pipeline(estimators)\n",
        "kfold = StratifiedKFold(n_splits=10, shuffle=True, random_state=seed)\n",
        "results = cross_val_score(pipeline, X, encoded_Y, cv=kfold)\n",
        "print(\"Result: %.2f%% (%.2f%%)\" % (results.mean()*100, results.std()*100))"
      ],
      "execution_count": 0,
      "outputs": [
        {
          "output_type": "stream",
          "text": [
            "Result: 53.38% (1.23%)\n"
          ],
          "name": "stdout"
        }
      ]
    },
    {
      "metadata": {
        "id": "hk8zBEWG9HOf",
        "colab_type": "text"
      },
      "cell_type": "markdown",
      "source": [
        "# Step 8.5: Try constraining the size of the network weights"
      ]
    },
    {
      "metadata": {
        "id": "xCslLF4Q1ABe",
        "colab_type": "code",
        "colab": {}
      },
      "cell_type": "code",
      "source": [
        "# baseline\n",
        "def constraint_weights():\n",
        "\t# create model\n",
        "  model = Sequential()\n",
        "  model.add(Dense(60, input_dim=60, kernel_initializer='normal', activation='relu',kernel_constraint=maxnorm(4)))\n",
        "  model.add(Dense(30, kernel_initializer='normal', activation='relu',kernel_constraint=maxnorm(4))) \n",
        "  model.add(Dense(15, kernel_initializer='normal', activation='relu',kernel_constraint=maxnorm(5)))\n",
        "  model.add(Dense(5, kernel_initializer='normal', activation='relu',kernel_constraint=maxnorm(5)))\n",
        "  model.add(Dense(1, kernel_initializer='normal', activation='sigmoid'))\n",
        "  # Compile model\n",
        "  sgd = SGD(lr=0.7, momentum=0.9, decay=0.0, nesterov=False)\n",
        "  model.compile(loss='binary_crossentropy', optimizer=sgd, metrics=['accuracy'])\n",
        "  return model"
      ],
      "execution_count": 0,
      "outputs": []
    },
    {
      "metadata": {
        "id": "6GJzbzC39Nz_",
        "colab_type": "code",
        "outputId": "bdf31bdf-aa28-4c90-8ae9-b67c62ac49a7",
        "colab": {
          "base_uri": "https://localhost:8080/",
          "height": 34
        }
      },
      "cell_type": "code",
      "source": [
        "numpy.random.seed(seed)\n",
        "estimators = []\n",
        "estimators.append(('standardize', StandardScaler()))\n",
        "estimators.append(('mlp', KerasClassifier(build_fn=constraint_weights, epochs=300, batch_size=16, verbose=0)))\n",
        "pipeline = Pipeline(estimators)\n",
        "kfold = StratifiedKFold(n_splits=10, shuffle=True, random_state=seed)\n",
        "results = cross_val_score(pipeline, X, encoded_Y, cv=kfold)\n",
        "print(\"Result: %.2f%% (%.2f%%)\" % (results.mean()*100, results.std()*100))"
      ],
      "execution_count": 0,
      "outputs": [
        {
          "output_type": "stream",
          "text": [
            "Result: 51.43% (3.30%)\n"
          ],
          "name": "stdout"
        }
      ]
    },
    {
      "metadata": {
        "id": "H4bZOT7a-vBG",
        "colab_type": "text"
      },
      "cell_type": "markdown",
      "source": [
        "# Step 9: Read More Resources on Dropout, and try implementing them"
      ]
    },
    {
      "metadata": {
        "id": "pJer8KGm9h9C",
        "colab_type": "code",
        "colab": {}
      },
      "cell_type": "code",
      "source": [
        "# baseline\n",
        "def dropout_implement():\n",
        "\t# create model\n",
        "  model = Sequential()\n",
        "  model.add(Dense(60, input_dim=60, kernel_initializer='normal', activation='relu',kernel_constraint=maxnorm(4)))\n",
        "  model.add(keras.layers.Dropout(0.3))\n",
        "  model.add(Dense(30, kernel_initializer='normal', activation='relu',kernel_constraint=maxnorm(4))) \n",
        "  model.add(keras.layers.Dropout(0.5))\n",
        "  model.add(Dense(15, kernel_initializer='normal', activation='relu',kernel_constraint=maxnorm(5)))\n",
        "  model.add(keras.layers.Dropout(0.7))\n",
        "  model.add(Dense(5, kernel_initializer='normal', activation='relu',kernel_constraint=maxnorm(5)))\n",
        "  model.add(keras.layers.Dropout(0.1))\n",
        "  model.add(Dense(1, kernel_initializer='normal', activation='sigmoid'))\n",
        "  # Compile model\n",
        "  sgd = SGD(lr=0.7, momentum=0.9, decay=0.0, nesterov=False)\n",
        "  model.compile(loss='binary_crossentropy', optimizer=sgd, metrics=['accuracy'])\n",
        "  return model"
      ],
      "execution_count": 0,
      "outputs": []
    },
    {
      "metadata": {
        "id": "QOT2iq4g_Lqq",
        "colab_type": "code",
        "outputId": "12a7609a-6682-4133-8b94-6834238ed6df",
        "colab": {
          "base_uri": "https://localhost:8080/",
          "height": 34
        }
      },
      "cell_type": "code",
      "source": [
        "numpy.random.seed(seed)\n",
        "estimators = []\n",
        "estimators.append(('standardize', StandardScaler()))\n",
        "estimators.append(('mlp', KerasClassifier(build_fn=dropout_implement, epochs=300, batch_size=16, verbose=0)))\n",
        "pipeline = Pipeline(estimators)\n",
        "kfold = StratifiedKFold(n_splits=10, shuffle=True, random_state=seed)\n",
        "results = cross_val_score(pipeline, X, encoded_Y, cv=kfold)\n",
        "print(\"Result: %.2f%% (%.2f%%)\" % (results.mean()*100, results.std()*100))"
      ],
      "execution_count": 0,
      "outputs": [
        {
          "output_type": "stream",
          "text": [
            "Result: 50.00% (3.60%)\n"
          ],
          "name": "stdout"
        }
      ]
    },
    {
      "metadata": {
        "id": "KbO7YWEK_aH3",
        "colab_type": "code",
        "colab": {}
      },
      "cell_type": "code",
      "source": [
        ""
      ],
      "execution_count": 0,
      "outputs": []
    }
  ]
}